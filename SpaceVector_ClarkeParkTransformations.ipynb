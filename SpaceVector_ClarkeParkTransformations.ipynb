{
  "nbformat": 4,
  "nbformat_minor": 0,
  "metadata": {
    "colab": {
      "provenance": [],
      "include_colab_link": true
    },
    "kernelspec": {
      "name": "python3",
      "display_name": "Python 3"
    }
  },
  "cells": [
    {
      "cell_type": "markdown",
      "metadata": {
        "id": "view-in-github",
        "colab_type": "text"
      },
      "source": [
        "<a href=\"https://colab.research.google.com/github/bingsen-wang/PowerElectronics/blob/main/SpaceVector_ClarkeParkTransformations.ipynb\" target=\"_parent\"><img src=\"https://colab.research.google.com/assets/colab-badge.svg\" alt=\"Open In Colab\"/></a>"
      ]
    },
    {
      "cell_type": "markdown",
      "metadata": {
        "id": "jAMKoELNpsK-"
      },
      "source": [
        "<center><h1><b>Space Vector in Rotating Reference Frame: Clarke and Park Transformations</h1></b>\n",
        "\n",
        "Dr. Bingsen Wang\n",
        "\n",
        "7/23/2024\n",
        "</center>"
      ]
    },
    {
      "cell_type": "markdown",
      "source": [
        "#Three-Phase Variables"
      ],
      "metadata": {
        "id": "HmWcB3JI26VP"
      }
    },
    {
      "cell_type": "markdown",
      "source": [
        "In three-phase power systems, the voltages are typically sinusoidal. The three phase voltages $v_a,v_b,v_c$ form a postive sequence if they have the same amplitude and frequency and different phase angles with $v_a$ leading $v_b$ by 120 degrees and $v_b$ leading $v_c$ by 120 degrees.\n",
        "$$\\begin{align}\n",
        "v_a &= V\\cos\\left(\\omega_e t+\\theta \\right)\\\\\n",
        "v_b &= V\\cos\\left(\\omega_e t+\\theta - \\frac{2\\pi}{3} \\right)\\\\\n",
        "v_c &= V\\cos\\left(\\omega_e t+\\theta + \\frac{2\\pi}{3} \\right)\n",
        "\\end{align}\\tag{1}$$"
      ],
      "metadata": {
        "id": "pnhz7qip2-9V"
      }
    },
    {
      "cell_type": "markdown",
      "source": [
        "#Space Vector"
      ],
      "metadata": {
        "id": "mlJ4vEv60KCg"
      }
    },
    {
      "cell_type": "markdown",
      "source": [
        "The space vector is complex variable defined as\n",
        "$$\\underline f = {2\\over3}\\left(f_a + f_be^{j\\frac{2\\pi}{3}} + f_ce^{j\\frac{4\\pi}{3}}\\right)\\tag{2}$$\n",
        "where $f_a,f_b,f_c$ are the three-phase variables. In electrical systems, the variable $f$ can be voltage $v$, current $i$, or flux linkage $\\lambda$. In power electronics systems, the variable $f$ can be the modulation function or switching function."
      ],
      "metadata": {
        "id": "C7_kB2GF0OKT"
      }
    },
    {
      "cell_type": "markdown",
      "source": [
        "##Space Vector in Stationary Reference Frame"
      ],
      "metadata": {
        "id": "SLVW7JbW4gbU"
      }
    },
    {
      "cell_type": "markdown",
      "source": [
        "With reference to (1) and (2), the voltage space vector in stationary reference frame is\n",
        "$$\\begin{align}\n",
        "\\underline v_{\\alpha\\beta} &= {2\\over3}\\left(v_a + v_be^{j\\frac{2\\pi}{3}} + v_ce^{j\\frac{4\\pi}{3}}\\right)\\\\\n",
        "&= {2V\\over3}\\left[\\cos\\left(\\omega_e t+\\theta\\right) + \\cos\\left(\\omega_e t+\\theta - \\frac{2\\pi}{3} \\right)e^{j\\frac{2\\pi}{3}} + \\cos\\left(\\omega_e t+\\theta + \\frac{2\\pi}{3} \\right)e^{j\\frac{4\\pi}{3}}\\right]\n",
        "\\end{align}\\tag{3}$$\n",
        "\n",
        "Based on Euler's identity $e^{jx}=\\cos x + j\\sin x$, the cosine function can be written in terms exponential functions.\n",
        "$$\\cos x = \\frac{e^{jx} + e^{-jx}}{2}\\tag{4}$$\n",
        "\n",
        "Hence, (3) can be rewritten as\n",
        "$$\\begin{align}\\underline v_{\\alpha\\beta} &= {2V\\over3\\times2}\\begin{bmatrix}\n",
        "e^{j\\left(\\omega_e t+\\theta\\right)} + e^{j\\left(\\omega_e t+\\theta-\\frac{2\\pi}{3}\\right)}e^{j\\frac{2\\pi}{3}} + e^{j\\left(\\omega_e t+\\theta+\\frac{2\\pi}{3}\\right)}e^{j\\frac{4\\pi}{3}}+\\\\\n",
        "e^{-j\\left(\\omega_e t+\\theta\\right)} + e^{-j\\left(\\omega_e t+\\theta-\\frac{2\\pi}{3}\\right)}e^{j\\frac{2\\pi}{3}} + e^{-j\\left(\\omega_e t+\\theta+\\frac{2\\pi}{3}\\right)}e^{j\\frac{4\\pi}{3}}\n",
        "\\end{bmatrix}\\\\\n",
        "&= Ve^{j(\\omega_e t+\\theta)}\n",
        "\\end{align}\\tag{5}$$"
      ],
      "metadata": {
        "id": "ccYNptxQ4pld"
      }
    },
    {
      "cell_type": "markdown",
      "source": [
        "#Rotating Reference Frame"
      ],
      "metadata": {
        "id": "ZS6cGouK-mfC"
      }
    },
    {
      "cell_type": "markdown",
      "source": [
        "If the reference frame rotates at angular frequency $\\omega$, then the space vector in the reference frame is\n",
        "\n",
        "$$\\underline v_{qd} = \\underline v_{\\alpha\\beta}e^{-j\\omega t}\\tag{6}$$\n",
        "\n",
        "Substituting (5) in (6) yields\n",
        "$$\\underline v_{qd} = V e^{j[(\\omega_e-\\omega) t+\\theta]}\\tag{7}$$"
      ],
      "metadata": {
        "id": "ejPdRVJc_QoF"
      }
    },
    {
      "cell_type": "markdown",
      "metadata": {
        "id": "Hv0YxDrWU4h8"
      },
      "source": [
        "#Python Code\n",
        "The Python code illustrates the space vector in a rotating reference frame."
      ]
    },
    {
      "cell_type": "code",
      "execution_count": 205,
      "metadata": {
        "id": "XeGsHYTt8IXU",
        "colab": {
          "base_uri": "https://localhost:8080/",
          "height": 1000
        },
        "outputId": "896dd5c7-9c0c-462d-c137-716e8c95146f"
      },
      "outputs": [
        {
          "output_type": "stream",
          "name": "stdout",
          "text": [
            "0\n",
            "0\n",
            "30\n",
            "60\n",
            "90\n",
            "120\n",
            "150\n",
            "180\n",
            "210\n",
            "240\n",
            "270\n",
            "300\n",
            "330\n",
            "360\n",
            "390\n",
            "420\n",
            "450\n",
            "480\n",
            "510\n",
            "540\n",
            "570\n",
            "0\n"
          ]
        },
        {
          "output_type": "display_data",
          "data": {
            "text/plain": [
              "<Figure size 900x900 with 2 Axes>"
            ],
            "image/png": "[encoded data removed]"
          },
          "metadata": {}
        }
      ],
      "source": [
        "from operator import eq\n",
        "import matplotlib\n",
        "from os import linesep\n",
        "import numpy as np\n",
        "from numpy import linspace,cos,sin,pi,exp,angle,array\n",
        "import matplotlib.pyplot as plt\n",
        "import matplotlib.patches as mp\n",
        "from matplotlib.patches import FancyArrow as fa\n",
        "from matplotlib import animation,rc,transforms\n",
        "rc('animation', html='jshtml')\n",
        "plt.rcParams.update({\"font.family\" : \"sans serif\",\"mathtext.fontset\" : \"cm\"})\n",
        "\n",
        "alps = [1,exp(1j*2*pi/3),exp(1j*4*pi/3)] #alphas\n",
        "def v_abc(V,w,t,theta): #voltages in abc\n",
        "  return V*array([cos(w*t+theta-k*2*pi/3) for k in range(3)])\n",
        "def abc2ab(abc): #Clarke transformation, abc to alpha-beta\n",
        "  return 2/3*(abc[0]*alps[0]+abc[1]*alps[1]+abc[2]*alps[2])\n",
        "def ab2qd(ab,w,t): #Park transformation, alpha-beta to d-q\n",
        "  return ab*exp(-1j*w*t)\n",
        "def drawArrow(ax,xy,mag,theta,arrowstyle,color):\n",
        "  rot=transforms.Affine2D().rotate_around(xy[0],xy[1],theta)+axs[0].transData\n",
        "  ax.add_patch(fa(xy[0],xy[1],mag,0,**arrowstyle,transform=rot,color=color))\n",
        "  return\n",
        "\n",
        "#parameters\n",
        "Nfps = 600\n",
        "V,fe,theta = 3,1,pi/4 #voltage amplitude,frequency,phase\n",
        "t=linspace(0,1/fe,Nfps)\n",
        "wt = 2*pi*fe*t #angular frequency\n",
        "vabc=v_abc(V,2*pi*fe,t,theta) #voltages in abc\n",
        "vab=abc2ab(vabc) #spac vector in alpha-beta\n",
        "vqd=ab2qd(vab,2*pi*fe,t) #space vector in d-q\n",
        "\n",
        "\n",
        "#plotting\n",
        "xymax,xylim = 4,[-4.5,4.5]\n",
        "clst=['tab:red','tab:blue','tab:brown','tab:green','tab:olive','tab:orange','k','w'] #colors light bg\n",
        "tns = ['$a$','$b$','$c$',r'$\\alpha$',r'$\\beta$','$d$','$q$',r'$v_\\alpha$',\n",
        "       r'$v_\\beta$',r'$v_a$',r'$v_b$',r'$v_c$'] #labels\n",
        "fig = plt.figure(figsize=(9,9))\n",
        "# fig.tight_layout()\n",
        "axs,lines,txts = [],[],[]\n",
        "as1 = {'head_width':.06,'length_includes_head':True,'overhang':.5} #arr style\n",
        "as2 = {'width':.05,'length_includes_head':True} #arr style\n",
        "as3 = {'width':.03,'length_includes_head':True} #arr style\n",
        "for k in range(2):\n",
        "  axs.append(fig.add_axes((0,0,1,1),xlim=xylim,ylim=xylim,fc='none'))\n",
        "  drawArrow(axs[0],(0,0),xymax,pi/2*k,as1,clst[-2])\n",
        "  axs[0].text((1-k)*xymax,k*xymax,tns[k+3],size=26) #ax labels\n",
        "axs[0].set_axis_off()\n",
        "lines.append(axs[0].plot([],[],'-',lw=3,color=clst[-3])[0]) #v_alpha, v_beta\n",
        "for k in range(3):\n",
        "  rot=transforms.Affine2D().rotate_around(0,0,2*pi/3*k-pi/2)+axs[0].transData\n",
        "  lines.append(axs[0].plot([],[],'-',lw=3,transform=rot,color=clst[k],alpha=0.4)[0])\n",
        "  lines.append(axs[0].plot([],[],'--',lw=1.5,transform=rot,color=clst[k],alpha=0.8)[0])\n",
        "  lines.append(axs[0].plot([],[],'-',lw=2,color=clst[k])[0])\n",
        "  drawArrow(axs[0],(0,0),xymax*.9,2*pi/3*k,as1,clst[k]) #abc-ax\n",
        "  txts.append(axs[0].text(0,0,tns[9+k],size=26,transform=rot,color=clst[k]))\n",
        "  axs[0].text(.9*xymax*alps[k].real,.9*xymax*alps[k].imag,tns[k],size=22,color=clst[k]) #abc ax labels\n",
        "lines.append(axs[0].plot([],[],'--',lw=1,color=clst[-2])[0]) #vd dotted\n",
        "lines.append(axs[0].plot([],[],'--',lw=1,color=clst[-2])[0]) #vq dotted\n",
        "\n",
        "\n",
        "def drawVectors_srf(ax,xymax,vabc,vab,vqd,wt,clst): # in stationary reference frame\n",
        "  ax.clear()\n",
        "  ax.set_xlim(xylim)\n",
        "  ax.set_ylim(xylim)\n",
        "  ax.axis('off')\n",
        "  for k in range(2):\n",
        "    rot=transforms.Affine2D().rotate_around(0,0,wt+pi/2*k)+ax.transData\n",
        "    ax.add_patch(fa(0,0,xymax,0,**as1,transform=rot,color=clst[-2])) #dq ax\n",
        "    ax.text(xymax,0,tns[k+5],size=26,transform=rot,color=clst[-2]) #ax labels\n",
        "  ax.add_patch(fa(0,0,vab.real, vab.imag, **as2,color=clst[-2])) #sv_ab\n",
        "  ax.text(vab.real,vab.imag,r'$v\\underbar$',size = 40,color=clst[-2])\n",
        "  for k in range(3):\n",
        "    rot=transforms.Affine2D().rotate_around(0,0,2*pi/3*k)+ax.transData\n",
        "    ax.add_patch(fa(0,0,vabc[k]*2/3,0,**as3,transform=rot,color=clst[k]))\n",
        "  arc = mp.Arc((0,0),1,1,theta2=wt*180/pi,color=clst[4],lw=2)\n",
        "  ax.add_patch(arc)\n",
        "  return\n",
        "\n",
        "\n",
        "# animation function. This is called sequentially\n",
        "def animate(i):\n",
        "  # i=Nfps-30\n",
        "  if i%30==0: print(i) #for monitoring the progress\n",
        "  lines[0].set_data(vab[:i+1].real,vab[:i+1].imag)\n",
        "  for k in range(3):\n",
        "    lines[3*k+1].set_data(.6*t[:i+1]*fe*xymax,vabc[k,:i+1]*2/3) #va,b,c\n",
        "    lines[3*k+2].set_data([0,.6*t[i]*fe*xymax],[vabc[k,i]*2/3,vabc[k,i]*2/3])\n",
        "    txts[k].set_position((.6*t[i]*fe*xymax,vabc[k,i]*2/3))\n",
        "  lines[6].set_data([2/3*vabc[0,i],2/3*vabc[0,i]+2/3*vabc[1,i]*alps[1].real],\n",
        "   [0,2/3*vabc[1,i]*alps[1].imag])\n",
        "  lines[9].set_data([2/3*vabc[0,i]+2/3*vabc[1,i]*alps[1].real,vab[i].real],\n",
        "   [2/3*vabc[1,i]*alps[1].imag,vab[i].imag])\n",
        "  lines[10].set_data([vqd[i].real*cos(wt[i]),vab[i].real],[vqd[i].real*sin(wt[i]),vab[i].imag])\n",
        "  lines[11].set_data([-vqd[i].imag*sin(wt[i]),vab[i].real],[vqd[i].imag*cos(wt[i]),vab[i].imag])\n",
        "  drawVectors_srf(axs[1],xymax,vabc[:,i],vab[i],vqd[i],wt[i],clst)\n",
        "  return\n",
        "anim = animation.FuncAnimation(fig, animate, frames=Nfps, interval=50)\n",
        "fn = r\"SpaceVector_ClarkePark.mp4\"\n",
        "writervideo = animation.FFMpegWriter(fps=30)\n",
        "anim.save(fn, writer=writervideo,dpi = 200)"
      ]
    }
  ]
}