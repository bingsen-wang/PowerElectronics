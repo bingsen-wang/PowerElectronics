{
  "cells": [
    {
      "cell_type": "markdown",
      "metadata": {
        "id": "view-in-github",
        "colab_type": "text"
      },
      "source": [
        "<a href=\"https://colab.research.google.com/github/bingsen-wang/PowerElectronics/blob/main/SpaceVector_ClarkeAndInverseTransformationsFourPhase.ipynb\" target=\"_parent\"><img src=\"https://colab.research.google.com/assets/colab-badge.svg\" alt=\"Open In Colab\"/></a>"
      ]
    },
    {
      "cell_type": "markdown",
      "metadata": {
        "id": "jAMKoELNpsK-"
      },
      "source": [
        "<center><h1><b>Space Vector: Clarke Transformation and Inverse for Four-Phase System</h1></b>\n",
        "\n",
        "Dr. Bingsen Wang\n",
        "\n",
        "7/27/2024\n",
        "</center>"
      ]
    },
    {
      "cell_type": "markdown",
      "metadata": {
        "id": "HmWcB3JI26VP"
      },
      "source": [
        "#Four-Phase Variables"
      ]
    },
    {
      "cell_type": "markdown",
      "metadata": {
        "id": "pnhz7qip2-9V"
      },
      "source": [
        "In three-phase power systems, the voltages are typically sinusoidal. The three phase voltages $v_1,v_2,v_3,v_4$ form a postive sequence.\n",
        "$$\n",
        "v_k = V\\cos\\left[\\omega_e t+\\theta -(k-1)\\frac{\\pi}{2} \\right]\n",
        "\\tag{1}$$"
      ]
    },
    {
      "cell_type": "markdown",
      "metadata": {
        "id": "mlJ4vEv60KCg"
      },
      "source": [
        "#Space Vector"
      ]
    },
    {
      "cell_type": "markdown",
      "metadata": {
        "id": "C7_kB2GF0OKT"
      },
      "source": [
        "The space vector is complex variable defined as\n",
        "$$\\underline f = {2\\over4}\\left(f_a + f_be^{j\\frac{\\pi}{2}} + f_ce^{j\\pi}+ f_de^{j\\frac{3\\pi}{2}}\\right)\\tag{2}$$\n",
        "where $f_a,f_b,f_c,f_d$ are the four-phase variables. In electrical systems, the variable $f$ can be voltage $v$, current $i$, or flux linkage $\\lambda$. In power electronics systems, the variable $f$ can be the modulation function or switching function."
      ]
    },
    {
      "cell_type": "markdown",
      "metadata": {
        "id": "SLVW7JbW4gbU"
      },
      "source": [
        "##Space Vector in Stationary Reference Frame"
      ]
    },
    {
      "cell_type": "markdown",
      "metadata": {
        "id": "ccYNptxQ4pld"
      },
      "source": [
        "With reference to (1) and (2), the voltage space vector in stationary reference frame is\n",
        "$$\\begin{align}\n",
        "\\underline v_{\\alpha\\beta} &= {1\\over2}\\left(v_1 + v_2e^{j\\frac{\\pi}{2}} + v_3e^{j\\pi}+v_4e^{j\\frac{3\\pi}{2}}\\right)\\\\\n",
        "&= {V\\over2}\\left[\\cos\\left(\\omega_e t+\\theta\\right) +\n",
        "\\cos\\left(\\omega_e t+\\theta - \\frac{\\pi}{2} \\right)e^{j\\frac{\\pi}{2}} \\\\\n",
        "+\\cos\\left(\\omega_e t+\\theta - \\pi \\right)e^{j\\pi} + \\cos\\left(\\omega_e t+\\theta - \\frac{3\\pi}{2} \\right)e^{j\\frac{3\\pi}{2}}\\right]\n",
        "\\end{align}\\tag{3}$$\n",
        "\n",
        "Based on Euler's identity $e^{jx}=\\cos x + j\\sin x$, the cosine function can be written in terms exponential functions.\n",
        "$$\\cos x = \\frac{e^{jx} + e^{-jx}}{2}\\tag{4}$$\n",
        "\n",
        "Hence, (3) can be rewritten as\n",
        "$$\\begin{align}\\underline v_{\\alpha\\beta}&= Ve^{j(\\omega_e t+\\theta)}\n",
        "\\end{align}\\tag{5}$$"
      ]
    },
    {
      "cell_type": "markdown",
      "metadata": {
        "id": "Hv0YxDrWU4h8"
      },
      "source": [
        "#Python Code\n",
        "The Python code illustrates the Clarke transformation and inverse for 5-phase system."
      ]
    },
    {
      "cell_type": "code",
      "execution_count": 25,
      "metadata": {
        "colab": {
          "base_uri": "https://localhost:8080/",
          "height": 1000
        },
        "id": "XeGsHYTt8IXU",
        "outputId": "8685b01b-e471-4321-8c6b-289ed8de5c55"
      },
      "outputs": [
        {
          "output_type": "stream",
          "name": "stdout",
          "text": [
            "0\n",
            "0\n",
            "30\n",
            "60\n",
            "90\n",
            "120\n",
            "150\n",
            "180\n",
            "210\n",
            "240\n",
            "270\n",
            "300\n",
            "330\n",
            "360\n",
            "390\n",
            "420\n",
            "450\n",
            "480\n",
            "510\n",
            "540\n",
            "570\n",
            "600\n",
            "630\n",
            "660\n",
            "690\n",
            "720\n",
            "750\n",
            "780\n",
            "810\n",
            "840\n",
            "870\n",
            "0\n"
          ]
        },
        {
          "output_type": "display_data",
          "data": {
            "text/plain": [
              "<Figure size 900x900 with 2 Axes>"
            ],
            "image/png": "[encoded data removed]"
          },
          "metadata": {}
        }
      ],
      "source": [
        "from os import linesep\n",
        "import numpy as np\n",
        "from numpy import linspace,cos,sin,pi,exp,angle,array\n",
        "import matplotlib.pyplot as plt\n",
        "import matplotlib.patches as mp\n",
        "from matplotlib.patches import FancyArrow as fa\n",
        "from matplotlib import animation,rc,transforms\n",
        "plt.rcParams.update({\"font.family\" : \"sans serif\",\"mathtext.fontset\" : \"cm\"})\n",
        "\n",
        "def v_abcde(V,w,t,theta): #voltages in abc\n",
        "  return V*array([cos(w*t+theta-k*pi/2) for k in range(4)])\n",
        "def abc2ab(abc): #Clarke transformation, abc to alpha-beta\n",
        "  x=0\n",
        "  for k in range(4): x+=1/2*abc[k]*exp(1j*pi*k/2)\n",
        "  return x\n",
        "\n",
        "#parameters\n",
        "Nfps = 900\n",
        "V,fe,theta = 3.8,1,pi/6 #voltage amplitude,frequency,phase\n",
        "t=linspace(0,1/fe,Nfps)\n",
        "wt = 2*pi*fe*t #angular frequency\n",
        "vabc=v_abcde(V,2*pi*fe,t,theta) #voltages in abcde\n",
        "vab=abc2ab(vabc) #spac vector in alpha-beta\n",
        "\n",
        "#plotting\n",
        "xymax,xylim = 4,[-4.5,4.5]\n",
        "clst=['tab:red','tab:blue','tab:brown','tab:purple','tab:green',\n",
        "      'tab:olive','tab:orange','k','w'] #colors light bg\n",
        "tns = ['$a$','$b$','$c$','$d$',\n",
        "       r'$v_a$',r'$v_b$',r'$v_c$',r'$v_d$',\n",
        "       r'$\\alpha$',r'$\\beta$'] #labels\n",
        "fig = plt.figure(figsize=(9,9))\n",
        "axs,lines,txts = [],[],[]\n",
        "as1 = {'head_width':.06,'length_includes_head':True,'overhang':.5} #arr style\n",
        "as2 = {'width':.06,'length_includes_head':True} #arr style\n",
        "as3 = {'width':.03,'length_includes_head':True} #arr style\n",
        "for k in range(2):\n",
        "  axs.append(fig.add_axes((0,0,1,1),xlim=xylim,ylim=xylim,fc='none'))\n",
        "  rot=transforms.Affine2D().rotate_around(0,0,pi/2*k)+axs[0].transData\n",
        "  axs[0].add_patch(fa(0,0,xymax,0,**as1,transform=rot,color=clst[-2],alpha=.6))#ab ax\n",
        "  axs[0].text((1-k)*xymax,k*xymax,tns[k+8],size=26) #ax labels\n",
        "axs[0].set_axis_off()\n",
        "lines.append(axs[0].plot([],[],'-',lw=3,color=clst[-4])[0]) #v_alpha, v_beta\n",
        "for k in range(4):\n",
        "  rot=transforms.Affine2D().rotate_around(0,0,pi/2*k-pi/2)+axs[0].transData\n",
        "  lines.append(axs[0].plot([],[],'-',lw=2,transform=rot,color=clst[k],alpha=0.5)[0])\n",
        "  lines.append(axs[0].plot([],[],'--',lw=1.5,transform=rot,color=clst[k],alpha=0.8)[0])\n",
        "  lines.append(axs[0].plot([],[],'--',lw=1.5,color=clst[k],alpha=0.8)[0])\n",
        "  lines.append(axs[0].plot([],[],'-',lw=2,color=clst[k])[0])\n",
        "  txts.append(axs[0].text(0,0,tns[4+k],size=30,transform=rot,color=clst[k]))\n",
        "  rot=transforms.Affine2D().rotate_around(0,0,pi*k/2)+axs[0].transData\n",
        "  axs[0].add_patch(fa(0,0,.9*xymax,0,**as1,transform=rot,color=clst[k],alpha=.6))#abcde ax\n",
        "  axs[0].text(.9*xymax,0,tns[k],size=25,transform=rot,color=clst[k]) #ax labels\n",
        "\n",
        "def drawVectors_srf(ax,xymax,vabc,vab,wt,clst): # in stationary reference frame\n",
        "  ax.clear()\n",
        "  ax.set_xlim(xylim)\n",
        "  ax.set_ylim(xylim)\n",
        "  ax.axis('off')\n",
        "  ax.add_patch(fa(0,0,vab.real, vab.imag, **as2,color=clst[-3])) #sv_ab\n",
        "  ax.text(vab.real,vab.imag,r'$v\\underbar$',size = 40,color=clst[-3])\n",
        "  ax.add_patch(fa(0,0,vab.real/2, vab.imag/2, **as3,color=clst[-2])) #scaled\n",
        "  ax.text(vab.real/2,vab.imag/2,r'$\\frac{1}{2}v\\underbar$',size = 35,color=clst[-2])\n",
        "  for k in range(4):\n",
        "    rot=transforms.Affine2D().rotate_around(0,0,pi/2*k)+ax.transData\n",
        "    ax.add_patch(fa(0,0,vabc[k]/2,0,**as3,transform=rot,color=clst[k]))\n",
        "    ax.add_patch(mp.Rectangle((vabc[k]/2,0),0.1,0.1,angle=-90*np.heaviside(vabc[k],0)-90,\n",
        "                              rotation_point='xy',transform=rot,color=clst[k],fc='none'))\n",
        "  return\n",
        "\n",
        "# animation function. This is called sequentially\n",
        "def animate(i):\n",
        "  # i=80\n",
        "  if i%30==0: print(i) #for monitoring the progress\n",
        "  lines[0].set_data(vab[:i+1].real,vab[:i+1].imag)\n",
        "  for k in range(4):\n",
        "    lines[4*k+1].set_data(.7*t[:i+1]/t[-1]*xymax,vabc[k,:i+1]/2) #va,b,c,d,e\n",
        "    lines[4*k+2].set_data([0,.7*t[i]/t[-1]*xymax],[vabc[k,i]/2,vabc[k,i]/2])\n",
        "    lines[4*k+3].set_data([vabc[k,i]*cos(k*pi/2)/2,vab[i].real/2],[vabc[k,i]*sin(k*pi/2)/2,vab[i].imag/2])\n",
        "    if k>0:\n",
        "      v2=0\n",
        "      for kk in range(k+1):\n",
        "        v2+=vabc[kk,i]/2*exp(1j*pi*kk/2)\n",
        "      v1=v2 - vabc[k,i]/2*exp(1j*pi*k/2)\n",
        "      lines[4*k+4].set_data([v1.real,v2.real],[v1.imag,v2.imag])\n",
        "    txts[k].set_position((.7*t[i]/t[-1]*xymax,vabc[k,i]/2))\n",
        "  drawVectors_srf(axs[1],xymax,vabc[:,i],vab[i],wt[i],clst)\n",
        "  return\n",
        "anim = animation.FuncAnimation(fig, animate, frames=Nfps, interval=50)\n",
        "fn = r\"SpaceVector_ClarkeAndInverseFourPhase.mp4\"\n",
        "writervideo = animation.FFMpegWriter(fps=30)\n",
        "anim.save(fn, writer=writervideo,dpi = 200)"
      ]
    }
  ],
  "metadata": {
    "colab": {
      "provenance": [],
      "include_colab_link": true
    },
    "kernelspec": {
      "display_name": "Python 3",
      "name": "python3"
    }
  },
  "nbformat": 4,
  "nbformat_minor": 0
}